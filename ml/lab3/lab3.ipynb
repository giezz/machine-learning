{
 "cells": [
  {
   "cell_type": "code",
   "execution_count": 69,
   "id": "initial_id",
   "metadata": {
    "collapsed": true,
    "ExecuteTime": {
     "end_time": "2023-11-08T19:59:46.104901600Z",
     "start_time": "2023-11-08T19:59:46.074784200Z"
    }
   },
   "outputs": [],
   "source": [
    "import pandas as pd\n",
    "import numpy as np"
   ]
  },
  {
   "cell_type": "code",
   "execution_count": 70,
   "outputs": [],
   "source": [
    "events = pd.read_csv(\"holidays_events.csv\")\n",
    "oil = pd.read_csv(\"oil.csv\")\n",
    "stores = pd.read_csv(\"stores.csv\")\n",
    "test = pd.read_csv(\"test.csv\")\n",
    "train = pd.read_csv(\"train.csv\")\n",
    "transactions = pd.read_csv(\"transactions.csv\")"
   ],
   "metadata": {
    "collapsed": false,
    "ExecuteTime": {
     "end_time": "2023-11-08T19:59:47.275825500Z",
     "start_time": "2023-11-08T19:59:46.079902Z"
    }
   },
   "id": "19bffe2274d7bf6b"
  },
  {
   "cell_type": "code",
   "execution_count": 71,
   "outputs": [],
   "source": [
    "oil[\"dcoilwtico\"].bfill(inplace=True)\n",
    "oil.rename(columns={\"dcoilwtico\": \"oil_price\"}, inplace=True)"
   ],
   "metadata": {
    "collapsed": false,
    "ExecuteTime": {
     "end_time": "2023-11-08T19:59:47.281081200Z",
     "start_time": "2023-11-08T19:59:47.275825500Z"
    }
   },
   "id": "57a76c212edf4cb4"
  },
  {
   "cell_type": "code",
   "execution_count": 72,
   "outputs": [],
   "source": [
    "labels = train[\"sales\"]\n",
    "train = train.drop(\"sales\", axis=1)\n",
    "train = train.drop(\"id\", axis=1)"
   ],
   "metadata": {
    "collapsed": false,
    "ExecuteTime": {
     "end_time": "2023-11-08T19:59:47.394969100Z",
     "start_time": "2023-11-08T19:59:47.280081300Z"
    }
   },
   "id": "1107009b019dafdb"
  },
  {
   "cell_type": "code",
   "execution_count": 73,
   "outputs": [],
   "source": [
    "train = pd.merge(train, stores, how=\"inner\", on=\"store_nbr\")"
   ],
   "metadata": {
    "collapsed": false,
    "ExecuteTime": {
     "end_time": "2023-11-08T19:59:47.697593500Z",
     "start_time": "2023-11-08T19:59:47.395968800Z"
    }
   },
   "id": "5f9adf7411729eb7"
  },
  {
   "cell_type": "code",
   "execution_count": 74,
   "outputs": [],
   "source": [
    "train = pd.merge(train, oil, how=\"left\", on=\"date\")\n"
   ],
   "metadata": {
    "collapsed": false,
    "ExecuteTime": {
     "end_time": "2023-11-08T19:59:48.258763100Z",
     "start_time": "2023-11-08T19:59:47.697593500Z"
    }
   },
   "id": "7eb6c76c553e604a"
  },
  {
   "cell_type": "code",
   "execution_count": 75,
   "outputs": [],
   "source": [
    "train = pd.merge(train, transactions, how=\"left\", on=[\"date\", \"store_nbr\"])"
   ],
   "metadata": {
    "collapsed": false,
    "ExecuteTime": {
     "end_time": "2023-11-08T19:59:48.695809900Z",
     "start_time": "2023-11-08T19:59:48.258763100Z"
    }
   },
   "id": "c136737b75f1c694"
  },
  {
   "cell_type": "code",
   "execution_count": 76,
   "outputs": [],
   "source": [
    "train = pd.merge(train, events, how=\"left\", on=\"date\")"
   ],
   "metadata": {
    "collapsed": false,
    "ExecuteTime": {
     "end_time": "2023-11-08T19:59:49.544437500Z",
     "start_time": "2023-11-08T19:59:48.696811100Z"
    }
   },
   "id": "b956c7310e574b93"
  },
  {
   "cell_type": "code",
   "execution_count": 77,
   "outputs": [
    {
     "data": {
      "text/plain": "               date  store_nbr                      family  onpromotion  \\\n0        2013-01-01          1                  AUTOMOTIVE            0   \n1        2013-01-01          1                   BABY CARE            0   \n2        2013-01-01          1                      BEAUTY            0   \n3        2013-01-01          1                   BEVERAGES            0   \n4        2013-01-01          1                       BOOKS            0   \n...             ...        ...                         ...          ...   \n3054343  2017-08-15          9                     POULTRY            0   \n3054344  2017-08-15          9              PREPARED FOODS            1   \n3054345  2017-08-15          9                     PRODUCE          148   \n3054346  2017-08-15          9  SCHOOL AND OFFICE SUPPLIES            8   \n3054347  2017-08-15          9                     SEAFOOD            0   \n\n          city      state type_x  cluster  oil_price  transactions   type_y  \\\n0        Quito  Pichincha      D       13      93.14           NaN  Holiday   \n1        Quito  Pichincha      D       13      93.14           NaN  Holiday   \n2        Quito  Pichincha      D       13      93.14           NaN  Holiday   \n3        Quito  Pichincha      D       13      93.14           NaN  Holiday   \n4        Quito  Pichincha      D       13      93.14           NaN  Holiday   \n...        ...        ...    ...      ...        ...           ...      ...   \n3054343  Quito  Pichincha      B        6      47.57        2155.0  Holiday   \n3054344  Quito  Pichincha      B        6      47.57        2155.0  Holiday   \n3054345  Quito  Pichincha      B        6      47.57        2155.0  Holiday   \n3054346  Quito  Pichincha      B        6      47.57        2155.0  Holiday   \n3054347  Quito  Pichincha      B        6      47.57        2155.0  Holiday   \n\n           locale locale_name            description transferred  \n0        National     Ecuador     Primer dia del ano       False  \n1        National     Ecuador     Primer dia del ano       False  \n2        National     Ecuador     Primer dia del ano       False  \n3        National     Ecuador     Primer dia del ano       False  \n4        National     Ecuador     Primer dia del ano       False  \n...           ...         ...                    ...         ...  \n3054343     Local    Riobamba  Fundacion de Riobamba       False  \n3054344     Local    Riobamba  Fundacion de Riobamba       False  \n3054345     Local    Riobamba  Fundacion de Riobamba       False  \n3054346     Local    Riobamba  Fundacion de Riobamba       False  \n3054347     Local    Riobamba  Fundacion de Riobamba       False  \n\n[3054348 rows x 15 columns]",
      "text/html": "<div>\n<style scoped>\n    .dataframe tbody tr th:only-of-type {\n        vertical-align: middle;\n    }\n\n    .dataframe tbody tr th {\n        vertical-align: top;\n    }\n\n    .dataframe thead th {\n        text-align: right;\n    }\n</style>\n<table border=\"1\" class=\"dataframe\">\n  <thead>\n    <tr style=\"text-align: right;\">\n      <th></th>\n      <th>date</th>\n      <th>store_nbr</th>\n      <th>family</th>\n      <th>onpromotion</th>\n      <th>city</th>\n      <th>state</th>\n      <th>type_x</th>\n      <th>cluster</th>\n      <th>oil_price</th>\n      <th>transactions</th>\n      <th>type_y</th>\n      <th>locale</th>\n      <th>locale_name</th>\n      <th>description</th>\n      <th>transferred</th>\n    </tr>\n  </thead>\n  <tbody>\n    <tr>\n      <th>0</th>\n      <td>2013-01-01</td>\n      <td>1</td>\n      <td>AUTOMOTIVE</td>\n      <td>0</td>\n      <td>Quito</td>\n      <td>Pichincha</td>\n      <td>D</td>\n      <td>13</td>\n      <td>93.14</td>\n      <td>NaN</td>\n      <td>Holiday</td>\n      <td>National</td>\n      <td>Ecuador</td>\n      <td>Primer dia del ano</td>\n      <td>False</td>\n    </tr>\n    <tr>\n      <th>1</th>\n      <td>2013-01-01</td>\n      <td>1</td>\n      <td>BABY CARE</td>\n      <td>0</td>\n      <td>Quito</td>\n      <td>Pichincha</td>\n      <td>D</td>\n      <td>13</td>\n      <td>93.14</td>\n      <td>NaN</td>\n      <td>Holiday</td>\n      <td>National</td>\n      <td>Ecuador</td>\n      <td>Primer dia del ano</td>\n      <td>False</td>\n    </tr>\n    <tr>\n      <th>2</th>\n      <td>2013-01-01</td>\n      <td>1</td>\n      <td>BEAUTY</td>\n      <td>0</td>\n      <td>Quito</td>\n      <td>Pichincha</td>\n      <td>D</td>\n      <td>13</td>\n      <td>93.14</td>\n      <td>NaN</td>\n      <td>Holiday</td>\n      <td>National</td>\n      <td>Ecuador</td>\n      <td>Primer dia del ano</td>\n      <td>False</td>\n    </tr>\n    <tr>\n      <th>3</th>\n      <td>2013-01-01</td>\n      <td>1</td>\n      <td>BEVERAGES</td>\n      <td>0</td>\n      <td>Quito</td>\n      <td>Pichincha</td>\n      <td>D</td>\n      <td>13</td>\n      <td>93.14</td>\n      <td>NaN</td>\n      <td>Holiday</td>\n      <td>National</td>\n      <td>Ecuador</td>\n      <td>Primer dia del ano</td>\n      <td>False</td>\n    </tr>\n    <tr>\n      <th>4</th>\n      <td>2013-01-01</td>\n      <td>1</td>\n      <td>BOOKS</td>\n      <td>0</td>\n      <td>Quito</td>\n      <td>Pichincha</td>\n      <td>D</td>\n      <td>13</td>\n      <td>93.14</td>\n      <td>NaN</td>\n      <td>Holiday</td>\n      <td>National</td>\n      <td>Ecuador</td>\n      <td>Primer dia del ano</td>\n      <td>False</td>\n    </tr>\n    <tr>\n      <th>...</th>\n      <td>...</td>\n      <td>...</td>\n      <td>...</td>\n      <td>...</td>\n      <td>...</td>\n      <td>...</td>\n      <td>...</td>\n      <td>...</td>\n      <td>...</td>\n      <td>...</td>\n      <td>...</td>\n      <td>...</td>\n      <td>...</td>\n      <td>...</td>\n      <td>...</td>\n    </tr>\n    <tr>\n      <th>3054343</th>\n      <td>2017-08-15</td>\n      <td>9</td>\n      <td>POULTRY</td>\n      <td>0</td>\n      <td>Quito</td>\n      <td>Pichincha</td>\n      <td>B</td>\n      <td>6</td>\n      <td>47.57</td>\n      <td>2155.0</td>\n      <td>Holiday</td>\n      <td>Local</td>\n      <td>Riobamba</td>\n      <td>Fundacion de Riobamba</td>\n      <td>False</td>\n    </tr>\n    <tr>\n      <th>3054344</th>\n      <td>2017-08-15</td>\n      <td>9</td>\n      <td>PREPARED FOODS</td>\n      <td>1</td>\n      <td>Quito</td>\n      <td>Pichincha</td>\n      <td>B</td>\n      <td>6</td>\n      <td>47.57</td>\n      <td>2155.0</td>\n      <td>Holiday</td>\n      <td>Local</td>\n      <td>Riobamba</td>\n      <td>Fundacion de Riobamba</td>\n      <td>False</td>\n    </tr>\n    <tr>\n      <th>3054345</th>\n      <td>2017-08-15</td>\n      <td>9</td>\n      <td>PRODUCE</td>\n      <td>148</td>\n      <td>Quito</td>\n      <td>Pichincha</td>\n      <td>B</td>\n      <td>6</td>\n      <td>47.57</td>\n      <td>2155.0</td>\n      <td>Holiday</td>\n      <td>Local</td>\n      <td>Riobamba</td>\n      <td>Fundacion de Riobamba</td>\n      <td>False</td>\n    </tr>\n    <tr>\n      <th>3054346</th>\n      <td>2017-08-15</td>\n      <td>9</td>\n      <td>SCHOOL AND OFFICE SUPPLIES</td>\n      <td>8</td>\n      <td>Quito</td>\n      <td>Pichincha</td>\n      <td>B</td>\n      <td>6</td>\n      <td>47.57</td>\n      <td>2155.0</td>\n      <td>Holiday</td>\n      <td>Local</td>\n      <td>Riobamba</td>\n      <td>Fundacion de Riobamba</td>\n      <td>False</td>\n    </tr>\n    <tr>\n      <th>3054347</th>\n      <td>2017-08-15</td>\n      <td>9</td>\n      <td>SEAFOOD</td>\n      <td>0</td>\n      <td>Quito</td>\n      <td>Pichincha</td>\n      <td>B</td>\n      <td>6</td>\n      <td>47.57</td>\n      <td>2155.0</td>\n      <td>Holiday</td>\n      <td>Local</td>\n      <td>Riobamba</td>\n      <td>Fundacion de Riobamba</td>\n      <td>False</td>\n    </tr>\n  </tbody>\n</table>\n<p>3054348 rows × 15 columns</p>\n</div>"
     },
     "execution_count": 77,
     "metadata": {},
     "output_type": "execute_result"
    }
   ],
   "source": [
    "train"
   ],
   "metadata": {
    "collapsed": false,
    "ExecuteTime": {
     "end_time": "2023-11-08T19:59:49.558782800Z",
     "start_time": "2023-11-08T19:59:49.544437500Z"
    }
   },
   "id": "bcbefc7957cb60f8"
  },
  {
   "cell_type": "code",
   "execution_count": 77,
   "outputs": [],
   "source": [],
   "metadata": {
    "collapsed": false,
    "ExecuteTime": {
     "end_time": "2023-11-08T19:59:49.558782800Z",
     "start_time": "2023-11-08T19:59:49.555706200Z"
    }
   },
   "id": "6c70e9230e532434"
  }
 ],
 "metadata": {
  "kernelspec": {
   "display_name": "Python 3",
   "language": "python",
   "name": "python3"
  },
  "language_info": {
   "codemirror_mode": {
    "name": "ipython",
    "version": 2
   },
   "file_extension": ".py",
   "mimetype": "text/x-python",
   "name": "python",
   "nbconvert_exporter": "python",
   "pygments_lexer": "ipython2",
   "version": "2.7.6"
  }
 },
 "nbformat": 4,
 "nbformat_minor": 5
}
