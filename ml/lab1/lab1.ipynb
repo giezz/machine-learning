{
 "cells": [
  {
   "cell_type": "code",
   "execution_count": 96,
   "id": "initial_id",
   "metadata": {
    "collapsed": true,
    "ExecuteTime": {
     "end_time": "2023-11-08T13:53:03.960797800Z",
     "start_time": "2023-11-08T13:53:03.754816700Z"
    }
   },
   "outputs": [],
   "source": [
    "import pandas as pd\n",
    "import numpy as np"
   ]
  },
  {
   "cell_type": "code",
   "execution_count": 97,
   "outputs": [],
   "source": [
    "test_data = pd.read_csv(\"test.csv\", header=None)\n",
    "train_data = pd.read_csv(\"train.csv\", header=None)\n",
    "labels = pd.read_csv(\"trainLabels.csv\", header=None)"
   ],
   "metadata": {
    "collapsed": false,
    "ExecuteTime": {
     "end_time": "2023-11-08T13:53:03.999768600Z",
     "start_time": "2023-11-08T13:53:03.757998Z"
    }
   },
   "id": "2b36c61d24c49200"
  },
  {
   "cell_type": "code",
   "execution_count": 98,
   "outputs": [
    {
     "data": {
      "text/plain": "                0            1            2            3            4   \\\ncount  9000.000000  9000.000000  9000.000000  9000.000000  9000.000000   \nmean      0.011814     0.004261    -0.001708     0.008614     1.262429   \nstd       1.009514     1.011432     0.996685     0.989010     4.527492   \nmin      -3.568633    -4.238067    -3.587473    -3.646144   -17.296514   \n25%      -0.669886    -0.678792    -0.665240    -0.662560    -1.669099   \n50%       0.006104     0.010758     0.007384     0.009027     1.123982   \n75%       0.703350     0.684755     0.658111     0.683506     4.002391   \nmax       3.843549     3.538868     3.716102     3.667817    20.551947   \n\n                5            6            7            8            9   ...  \\\ncount  9000.000000  9000.000000  9000.000000  9000.000000  9000.000000  ...   \nmean      0.006003     0.480585    -0.017228     0.006883    -0.006664  ...   \nstd       0.999623     2.102394     2.204673     0.989207     0.991570  ...   \nmin      -3.500646    -9.157707    -7.867021    -4.037177    -3.666707  ...   \n25%      -0.688766    -0.894049    -1.521762    -0.654169    -0.665439  ...   \n50%       0.011476     0.534536    -0.021020    -0.006291    -0.005408  ...   \n75%       0.690966     1.890960     1.460165     0.676678     0.654349  ...   \nmax       4.565496     7.882210     7.391208     3.706671     3.322649  ...   \n\n                30           31           32           33           34  \\\ncount  9000.000000  9000.000000  9000.000000  9000.000000  9000.000000   \nmean     -0.018914     0.007282    -0.476895     0.016175    -0.508713   \nstd       1.003450     1.003326     2.202519     1.015779     2.097448   \nmin      -4.545617    -3.914329    -8.510309    -4.702577    -8.860839   \n25%      -0.689220    -0.664532    -1.986040    -0.673810    -1.908190   \n50%      -0.033990    -0.003370    -0.459278     0.013170    -0.481508   \n75%       0.655757     0.682167     1.026158     0.691832     0.957351   \nmax       3.624639     4.251316     8.598575     4.157051     6.851583   \n\n                35           36           37           38           39  \ncount  9000.000000  9000.000000  9000.000000  9000.000000  9000.000000  \nmean     -0.002295     0.451234    -0.002042    -1.003258     0.539873  \nstd       1.008415     2.187677     1.000152     1.979629     2.011646  \nmin      -3.579675    -9.034930    -3.820679    -8.174851    -7.945400  \n25%      -0.689363    -1.071005    -0.667359    -2.293291    -0.717376  \n50%      -0.000858     0.419585    -0.003255    -1.004007     0.637040  \n75%       0.666330     1.938350     0.667539     0.321595     1.897324  \nmax       3.911722     8.624332     3.860112     7.125848     9.464492  \n\n[8 rows x 40 columns]",
      "text/html": "<div>\n<style scoped>\n    .dataframe tbody tr th:only-of-type {\n        vertical-align: middle;\n    }\n\n    .dataframe tbody tr th {\n        vertical-align: top;\n    }\n\n    .dataframe thead th {\n        text-align: right;\n    }\n</style>\n<table border=\"1\" class=\"dataframe\">\n  <thead>\n    <tr style=\"text-align: right;\">\n      <th></th>\n      <th>0</th>\n      <th>1</th>\n      <th>2</th>\n      <th>3</th>\n      <th>4</th>\n      <th>5</th>\n      <th>6</th>\n      <th>7</th>\n      <th>8</th>\n      <th>9</th>\n      <th>...</th>\n      <th>30</th>\n      <th>31</th>\n      <th>32</th>\n      <th>33</th>\n      <th>34</th>\n      <th>35</th>\n      <th>36</th>\n      <th>37</th>\n      <th>38</th>\n      <th>39</th>\n    </tr>\n  </thead>\n  <tbody>\n    <tr>\n      <th>count</th>\n      <td>9000.000000</td>\n      <td>9000.000000</td>\n      <td>9000.000000</td>\n      <td>9000.000000</td>\n      <td>9000.000000</td>\n      <td>9000.000000</td>\n      <td>9000.000000</td>\n      <td>9000.000000</td>\n      <td>9000.000000</td>\n      <td>9000.000000</td>\n      <td>...</td>\n      <td>9000.000000</td>\n      <td>9000.000000</td>\n      <td>9000.000000</td>\n      <td>9000.000000</td>\n      <td>9000.000000</td>\n      <td>9000.000000</td>\n      <td>9000.000000</td>\n      <td>9000.000000</td>\n      <td>9000.000000</td>\n      <td>9000.000000</td>\n    </tr>\n    <tr>\n      <th>mean</th>\n      <td>0.011814</td>\n      <td>0.004261</td>\n      <td>-0.001708</td>\n      <td>0.008614</td>\n      <td>1.262429</td>\n      <td>0.006003</td>\n      <td>0.480585</td>\n      <td>-0.017228</td>\n      <td>0.006883</td>\n      <td>-0.006664</td>\n      <td>...</td>\n      <td>-0.018914</td>\n      <td>0.007282</td>\n      <td>-0.476895</td>\n      <td>0.016175</td>\n      <td>-0.508713</td>\n      <td>-0.002295</td>\n      <td>0.451234</td>\n      <td>-0.002042</td>\n      <td>-1.003258</td>\n      <td>0.539873</td>\n    </tr>\n    <tr>\n      <th>std</th>\n      <td>1.009514</td>\n      <td>1.011432</td>\n      <td>0.996685</td>\n      <td>0.989010</td>\n      <td>4.527492</td>\n      <td>0.999623</td>\n      <td>2.102394</td>\n      <td>2.204673</td>\n      <td>0.989207</td>\n      <td>0.991570</td>\n      <td>...</td>\n      <td>1.003450</td>\n      <td>1.003326</td>\n      <td>2.202519</td>\n      <td>1.015779</td>\n      <td>2.097448</td>\n      <td>1.008415</td>\n      <td>2.187677</td>\n      <td>1.000152</td>\n      <td>1.979629</td>\n      <td>2.011646</td>\n    </tr>\n    <tr>\n      <th>min</th>\n      <td>-3.568633</td>\n      <td>-4.238067</td>\n      <td>-3.587473</td>\n      <td>-3.646144</td>\n      <td>-17.296514</td>\n      <td>-3.500646</td>\n      <td>-9.157707</td>\n      <td>-7.867021</td>\n      <td>-4.037177</td>\n      <td>-3.666707</td>\n      <td>...</td>\n      <td>-4.545617</td>\n      <td>-3.914329</td>\n      <td>-8.510309</td>\n      <td>-4.702577</td>\n      <td>-8.860839</td>\n      <td>-3.579675</td>\n      <td>-9.034930</td>\n      <td>-3.820679</td>\n      <td>-8.174851</td>\n      <td>-7.945400</td>\n    </tr>\n    <tr>\n      <th>25%</th>\n      <td>-0.669886</td>\n      <td>-0.678792</td>\n      <td>-0.665240</td>\n      <td>-0.662560</td>\n      <td>-1.669099</td>\n      <td>-0.688766</td>\n      <td>-0.894049</td>\n      <td>-1.521762</td>\n      <td>-0.654169</td>\n      <td>-0.665439</td>\n      <td>...</td>\n      <td>-0.689220</td>\n      <td>-0.664532</td>\n      <td>-1.986040</td>\n      <td>-0.673810</td>\n      <td>-1.908190</td>\n      <td>-0.689363</td>\n      <td>-1.071005</td>\n      <td>-0.667359</td>\n      <td>-2.293291</td>\n      <td>-0.717376</td>\n    </tr>\n    <tr>\n      <th>50%</th>\n      <td>0.006104</td>\n      <td>0.010758</td>\n      <td>0.007384</td>\n      <td>0.009027</td>\n      <td>1.123982</td>\n      <td>0.011476</td>\n      <td>0.534536</td>\n      <td>-0.021020</td>\n      <td>-0.006291</td>\n      <td>-0.005408</td>\n      <td>...</td>\n      <td>-0.033990</td>\n      <td>-0.003370</td>\n      <td>-0.459278</td>\n      <td>0.013170</td>\n      <td>-0.481508</td>\n      <td>-0.000858</td>\n      <td>0.419585</td>\n      <td>-0.003255</td>\n      <td>-1.004007</td>\n      <td>0.637040</td>\n    </tr>\n    <tr>\n      <th>75%</th>\n      <td>0.703350</td>\n      <td>0.684755</td>\n      <td>0.658111</td>\n      <td>0.683506</td>\n      <td>4.002391</td>\n      <td>0.690966</td>\n      <td>1.890960</td>\n      <td>1.460165</td>\n      <td>0.676678</td>\n      <td>0.654349</td>\n      <td>...</td>\n      <td>0.655757</td>\n      <td>0.682167</td>\n      <td>1.026158</td>\n      <td>0.691832</td>\n      <td>0.957351</td>\n      <td>0.666330</td>\n      <td>1.938350</td>\n      <td>0.667539</td>\n      <td>0.321595</td>\n      <td>1.897324</td>\n    </tr>\n    <tr>\n      <th>max</th>\n      <td>3.843549</td>\n      <td>3.538868</td>\n      <td>3.716102</td>\n      <td>3.667817</td>\n      <td>20.551947</td>\n      <td>4.565496</td>\n      <td>7.882210</td>\n      <td>7.391208</td>\n      <td>3.706671</td>\n      <td>3.322649</td>\n      <td>...</td>\n      <td>3.624639</td>\n      <td>4.251316</td>\n      <td>8.598575</td>\n      <td>4.157051</td>\n      <td>6.851583</td>\n      <td>3.911722</td>\n      <td>8.624332</td>\n      <td>3.860112</td>\n      <td>7.125848</td>\n      <td>9.464492</td>\n    </tr>\n  </tbody>\n</table>\n<p>8 rows × 40 columns</p>\n</div>"
     },
     "execution_count": 98,
     "metadata": {},
     "output_type": "execute_result"
    }
   ],
   "source": [
    "test_data.describe()"
   ],
   "metadata": {
    "collapsed": false,
    "ExecuteTime": {
     "end_time": "2023-11-08T13:53:04.000770Z",
     "start_time": "2023-11-08T13:53:03.832528Z"
    }
   },
   "id": "80e836fe0ade7624"
  },
  {
   "cell_type": "code",
   "execution_count": 99,
   "outputs": [],
   "source": [
    "from sklearn.model_selection import train_test_split"
   ],
   "metadata": {
    "collapsed": false,
    "ExecuteTime": {
     "end_time": "2023-11-08T13:53:04.000770Z",
     "start_time": "2023-11-08T13:53:03.893527100Z"
    }
   },
   "id": "f408d8a572b969f6"
  },
  {
   "cell_type": "code",
   "execution_count": 100,
   "outputs": [],
   "source": [
    "X_train, X_test, y_train, y_test = train_test_split(train_data, labels, random_state=4, test_size=0.2)"
   ],
   "metadata": {
    "collapsed": false,
    "ExecuteTime": {
     "end_time": "2023-11-08T13:53:04.001771100Z",
     "start_time": "2023-11-08T13:53:03.898811200Z"
    }
   },
   "id": "5b36fd8402596b4"
  },
  {
   "cell_type": "code",
   "execution_count": 101,
   "outputs": [],
   "source": [
    "from sklearn.preprocessing import normalize"
   ],
   "metadata": {
    "collapsed": false,
    "ExecuteTime": {
     "end_time": "2023-11-08T13:53:04.001771100Z",
     "start_time": "2023-11-08T13:53:03.910812600Z"
    }
   },
   "id": "2499b2b58b4d4582"
  },
  {
   "cell_type": "code",
   "execution_count": 102,
   "outputs": [],
   "source": [
    "X_train = normalize(X_train)\n",
    "X_test = normalize(X_test)\n",
    "y_train = normalize(y_train)\n",
    "y_test = normalize(y_test)"
   ],
   "metadata": {
    "collapsed": false,
    "ExecuteTime": {
     "end_time": "2023-11-08T13:53:04.001771100Z",
     "start_time": "2023-11-08T13:53:03.919811400Z"
    }
   },
   "id": "70b0839e00d5a131"
  },
  {
   "cell_type": "code",
   "execution_count": 103,
   "outputs": [],
   "source": [
    "from sklearn.svm import SVC"
   ],
   "metadata": {
    "collapsed": false,
    "ExecuteTime": {
     "end_time": "2023-11-08T13:53:04.001771100Z",
     "start_time": "2023-11-08T13:53:03.932875600Z"
    }
   },
   "id": "842e32958cd17933"
  },
  {
   "cell_type": "code",
   "execution_count": 104,
   "outputs": [
    {
     "data": {
      "text/plain": "SVC()",
      "text/html": "<style>#sk-container-id-8 {color: black;}#sk-container-id-8 pre{padding: 0;}#sk-container-id-8 div.sk-toggleable {background-color: white;}#sk-container-id-8 label.sk-toggleable__label {cursor: pointer;display: block;width: 100%;margin-bottom: 0;padding: 0.3em;box-sizing: border-box;text-align: center;}#sk-container-id-8 label.sk-toggleable__label-arrow:before {content: \"▸\";float: left;margin-right: 0.25em;color: #696969;}#sk-container-id-8 label.sk-toggleable__label-arrow:hover:before {color: black;}#sk-container-id-8 div.sk-estimator:hover label.sk-toggleable__label-arrow:before {color: black;}#sk-container-id-8 div.sk-toggleable__content {max-height: 0;max-width: 0;overflow: hidden;text-align: left;background-color: #f0f8ff;}#sk-container-id-8 div.sk-toggleable__content pre {margin: 0.2em;color: black;border-radius: 0.25em;background-color: #f0f8ff;}#sk-container-id-8 input.sk-toggleable__control:checked~div.sk-toggleable__content {max-height: 200px;max-width: 100%;overflow: auto;}#sk-container-id-8 input.sk-toggleable__control:checked~label.sk-toggleable__label-arrow:before {content: \"▾\";}#sk-container-id-8 div.sk-estimator input.sk-toggleable__control:checked~label.sk-toggleable__label {background-color: #d4ebff;}#sk-container-id-8 div.sk-label input.sk-toggleable__control:checked~label.sk-toggleable__label {background-color: #d4ebff;}#sk-container-id-8 input.sk-hidden--visually {border: 0;clip: rect(1px 1px 1px 1px);clip: rect(1px, 1px, 1px, 1px);height: 1px;margin: -1px;overflow: hidden;padding: 0;position: absolute;width: 1px;}#sk-container-id-8 div.sk-estimator {font-family: monospace;background-color: #f0f8ff;border: 1px dotted black;border-radius: 0.25em;box-sizing: border-box;margin-bottom: 0.5em;}#sk-container-id-8 div.sk-estimator:hover {background-color: #d4ebff;}#sk-container-id-8 div.sk-parallel-item::after {content: \"\";width: 100%;border-bottom: 1px solid gray;flex-grow: 1;}#sk-container-id-8 div.sk-label:hover label.sk-toggleable__label {background-color: #d4ebff;}#sk-container-id-8 div.sk-serial::before {content: \"\";position: absolute;border-left: 1px solid gray;box-sizing: border-box;top: 0;bottom: 0;left: 50%;z-index: 0;}#sk-container-id-8 div.sk-serial {display: flex;flex-direction: column;align-items: center;background-color: white;padding-right: 0.2em;padding-left: 0.2em;position: relative;}#sk-container-id-8 div.sk-item {position: relative;z-index: 1;}#sk-container-id-8 div.sk-parallel {display: flex;align-items: stretch;justify-content: center;background-color: white;position: relative;}#sk-container-id-8 div.sk-item::before, #sk-container-id-8 div.sk-parallel-item::before {content: \"\";position: absolute;border-left: 1px solid gray;box-sizing: border-box;top: 0;bottom: 0;left: 50%;z-index: -1;}#sk-container-id-8 div.sk-parallel-item {display: flex;flex-direction: column;z-index: 1;position: relative;background-color: white;}#sk-container-id-8 div.sk-parallel-item:first-child::after {align-self: flex-end;width: 50%;}#sk-container-id-8 div.sk-parallel-item:last-child::after {align-self: flex-start;width: 50%;}#sk-container-id-8 div.sk-parallel-item:only-child::after {width: 0;}#sk-container-id-8 div.sk-dashed-wrapped {border: 1px dashed gray;margin: 0 0.4em 0.5em 0.4em;box-sizing: border-box;padding-bottom: 0.4em;background-color: white;}#sk-container-id-8 div.sk-label label {font-family: monospace;font-weight: bold;display: inline-block;line-height: 1.2em;}#sk-container-id-8 div.sk-label-container {text-align: center;}#sk-container-id-8 div.sk-container {/* jupyter's `normalize.less` sets `[hidden] { display: none; }` but bootstrap.min.css set `[hidden] { display: none !important; }` so we also need the `!important` here to be able to override the default hidden behavior on the sphinx rendered scikit-learn.org. See: https://github.com/scikit-learn/scikit-learn/issues/21755 */display: inline-block !important;position: relative;}#sk-container-id-8 div.sk-text-repr-fallback {display: none;}</style><div id=\"sk-container-id-8\" class=\"sk-top-container\"><div class=\"sk-text-repr-fallback\"><pre>SVC()</pre><b>In a Jupyter environment, please rerun this cell to show the HTML representation or trust the notebook. <br />On GitHub, the HTML representation is unable to render, please try loading this page with nbviewer.org.</b></div><div class=\"sk-container\" hidden><div class=\"sk-item\"><div class=\"sk-estimator sk-toggleable\"><input class=\"sk-toggleable__control sk-hidden--visually\" id=\"sk-estimator-id-8\" type=\"checkbox\" checked><label for=\"sk-estimator-id-8\" class=\"sk-toggleable__label sk-toggleable__label-arrow\">SVC</label><div class=\"sk-toggleable__content\"><pre>SVC()</pre></div></div></div></div></div>"
     },
     "execution_count": 104,
     "metadata": {},
     "output_type": "execute_result"
    }
   ],
   "source": [
    "model = SVC()\n",
    "model.fit(X_train, np.ravel(y_train))"
   ],
   "metadata": {
    "collapsed": false,
    "ExecuteTime": {
     "end_time": "2023-11-08T13:53:04.020769Z",
     "start_time": "2023-11-08T13:53:03.941798400Z"
    }
   },
   "id": "40ba50781928da7e"
  },
  {
   "cell_type": "code",
   "execution_count": 105,
   "outputs": [
    {
     "data": {
      "text/plain": "0.9"
     },
     "execution_count": 105,
     "metadata": {},
     "output_type": "execute_result"
    }
   ],
   "source": [
    "model.score(X_test, y_test)"
   ],
   "metadata": {
    "collapsed": false,
    "ExecuteTime": {
     "end_time": "2023-11-08T13:53:04.020769Z",
     "start_time": "2023-11-08T13:53:03.966951Z"
    }
   },
   "id": "3cd1094712879dec"
  },
  {
   "cell_type": "code",
   "execution_count": 106,
   "outputs": [],
   "source": [
    "prediction = model.predict(normalize(test_data))"
   ],
   "metadata": {
    "collapsed": false,
    "ExecuteTime": {
     "end_time": "2023-11-08T13:53:04.365378800Z",
     "start_time": "2023-11-08T13:53:03.982771300Z"
    }
   },
   "id": "291bf52193c10dc9"
  },
  {
   "cell_type": "code",
   "execution_count": 107,
   "outputs": [],
   "source": [
    "submit_dict = {'Id': np.arange(1, len(prediction) + 1), 'Solution': pd.Series(prediction).astype(int)}\n",
    "my_submission = pd.DataFrame(submit_dict)\n",
    "my_submission.to_csv('submission.csv', index=False)"
   ],
   "metadata": {
    "collapsed": false,
    "ExecuteTime": {
     "end_time": "2023-11-08T13:53:04.375590900Z",
     "start_time": "2023-11-08T13:53:04.365378800Z"
    }
   },
   "id": "7943843bc8ee264c"
  },
  {
   "cell_type": "markdown",
   "source": [],
   "metadata": {
    "collapsed": false
   },
   "id": "e0882c6c2d42de58"
  }
 ],
 "metadata": {
  "kernelspec": {
   "display_name": "Python 3",
   "language": "python",
   "name": "python3"
  },
  "language_info": {
   "codemirror_mode": {
    "name": "ipython",
    "version": 2
   },
   "file_extension": ".py",
   "mimetype": "text/x-python",
   "name": "python",
   "nbconvert_exporter": "python",
   "pygments_lexer": "ipython2",
   "version": "2.7.6"
  }
 },
 "nbformat": 4,
 "nbformat_minor": 5
}
